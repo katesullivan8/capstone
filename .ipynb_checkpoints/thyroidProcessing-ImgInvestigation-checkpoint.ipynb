{
 "cells": [
  {
   "cell_type": "code",
   "execution_count": 1,
   "metadata": {},
   "outputs": [
    {
     "name": "stderr",
     "output_type": "stream",
     "text": [
      "Using TensorFlow backend.\n"
     ]
    }
   ],
   "source": [
    "import random\n",
    "import pandas as pd\n",
    "import numpy as np\n",
    "import sklearn\n",
    "import matplotlib.image as mpimg\n",
    "import matplotlib.pyplot as plt\n",
    "from keras.preprocessing.image import ImageDataGenerator\n",
    "from PIL import Image\n",
    "import requests\n",
    "from io import BytesIO\n",
    "from scipy import stats\n",
    "from sklearn import preprocessing\n",
    "from sklearn import linear_model\n",
    "from sklearn import model_selection\n",
    "from sklearn.metrics import mean_squared_error\n",
    "from sklearn.metrics import r2_score\n",
    "import tensorflow as tf\n",
    "import math\n"
   ]
  },
  {
   "cell_type": "code",
   "execution_count": 2,
   "metadata": {},
   "outputs": [],
   "source": [
    "case_path = './data/thyroidCSV/cases.csv'\n",
    "coord_path = './data/thyroidCSV/coors.csv'\n",
    "img_path = './data/thyroidCSV/images.csv'\n",
    "\n",
    "case_df = pd.read_csv(case_path)\n",
    "coord_df = pd.read_csv(coord_path)\n",
    "img_df = pd.read_csv(img_path)"
   ]
  },
  {
   "cell_type": "code",
   "execution_count": 3,
   "metadata": {},
   "outputs": [],
   "source": [
    "# check img sizes\n",
    "all_img_path = './data/all_images_by_coord_id/'\n",
    "\n",
    "img_ids = ['img_'+str(num) for num in range(1, len(coord_df)+1)]\n"
   ]
  },
  {
   "cell_type": "code",
   "execution_count": 4,
   "metadata": {},
   "outputs": [],
   "source": [
    "imgs = [Image.open(all_img_path+im_id) for im_id in img_ids]\n",
    "\n",
    "sizes = [x.size for x in imgs]\n"
   ]
  },
  {
   "cell_type": "code",
   "execution_count": 5,
   "metadata": {},
   "outputs": [
    {
     "data": {
      "text/plain": [
       "{(560, 315), (560, 360)}"
      ]
     },
     "execution_count": 5,
     "metadata": {},
     "output_type": "execute_result"
    }
   ],
   "source": [
    "set(sizes)\n"
   ]
  },
  {
   "cell_type": "code",
   "execution_count": 6,
   "metadata": {},
   "outputs": [],
   "source": [
    "files = img_df['filename'].values\n",
    "filenames = ['./data/'+ x for x in files]\n",
    "\n"
   ]
  },
  {
   "cell_type": "code",
   "execution_count": 7,
   "metadata": {},
   "outputs": [],
   "source": [
    "img_df['filename'] = filenames\n"
   ]
  },
  {
   "cell_type": "code",
   "execution_count": 8,
   "metadata": {},
   "outputs": [
    {
     "data": {
      "text/html": [
       "<div>\n",
       "<style scoped>\n",
       "    .dataframe tbody tr th:only-of-type {\n",
       "        vertical-align: middle;\n",
       "    }\n",
       "\n",
       "    .dataframe tbody tr th {\n",
       "        vertical-align: top;\n",
       "    }\n",
       "\n",
       "    .dataframe thead th {\n",
       "        text-align: right;\n",
       "    }\n",
       "</style>\n",
       "<table border=\"1\" class=\"dataframe\">\n",
       "  <thead>\n",
       "    <tr style=\"text-align: right;\">\n",
       "      <th></th>\n",
       "      <th>id</th>\n",
       "      <th>case_id</th>\n",
       "      <th>filename</th>\n",
       "      <th>mark</th>\n",
       "    </tr>\n",
       "  </thead>\n",
       "  <tbody>\n",
       "    <tr>\n",
       "      <th>0</th>\n",
       "      <td>1</td>\n",
       "      <td>1</td>\n",
       "      <td>./data/cimalab/bening/545/1.jpg</td>\n",
       "      <td>[{\"points\": [{\"x\": 413, \"y\": 91}, {\"x\": 406, \"...</td>\n",
       "    </tr>\n",
       "    <tr>\n",
       "      <th>1</th>\n",
       "      <td>2</td>\n",
       "      <td>1</td>\n",
       "      <td>./data/cimalab/bening/545/2.jpg</td>\n",
       "      <td>[{\"points\": [{\"x\": 291, \"y\": 76}, {\"x\": 281, \"...</td>\n",
       "    </tr>\n",
       "    <tr>\n",
       "      <th>2</th>\n",
       "      <td>3</td>\n",
       "      <td>5</td>\n",
       "      <td>./data/cimalab/bening/549/1.jpg</td>\n",
       "      <td>[{\"points\": [{\"x\": 292, \"y\": 123}, {\"x\": 293, ...</td>\n",
       "    </tr>\n",
       "  </tbody>\n",
       "</table>\n",
       "</div>"
      ],
      "text/plain": [
       "   id  case_id                         filename  \\\n",
       "0   1        1  ./data/cimalab/bening/545/1.jpg   \n",
       "1   2        1  ./data/cimalab/bening/545/2.jpg   \n",
       "2   3        5  ./data/cimalab/bening/549/1.jpg   \n",
       "\n",
       "                                                mark  \n",
       "0  [{\"points\": [{\"x\": 413, \"y\": 91}, {\"x\": 406, \"...  \n",
       "1  [{\"points\": [{\"x\": 291, \"y\": 76}, {\"x\": 281, \"...  \n",
       "2  [{\"points\": [{\"x\": 292, \"y\": 123}, {\"x\": 293, ...  "
      ]
     },
     "execution_count": 8,
     "metadata": {},
     "output_type": "execute_result"
    }
   ],
   "source": [
    "img_df.head(3)"
   ]
  },
  {
   "cell_type": "code",
   "execution_count": 9,
   "metadata": {},
   "outputs": [
    {
     "data": {
      "text/html": [
       "<div>\n",
       "<style scoped>\n",
       "    .dataframe tbody tr th:only-of-type {\n",
       "        vertical-align: middle;\n",
       "    }\n",
       "\n",
       "    .dataframe tbody tr th {\n",
       "        vertical-align: top;\n",
       "    }\n",
       "\n",
       "    .dataframe thead th {\n",
       "        text-align: right;\n",
       "    }\n",
       "</style>\n",
       "<table border=\"1\" class=\"dataframe\">\n",
       "  <thead>\n",
       "    <tr style=\"text-align: right;\">\n",
       "      <th></th>\n",
       "      <th>id</th>\n",
       "      <th>num</th>\n",
       "      <th>cancer</th>\n",
       "      <th>age</th>\n",
       "      <th>sex</th>\n",
       "      <th>composition</th>\n",
       "      <th>echogenicity</th>\n",
       "      <th>margins</th>\n",
       "      <th>calcification</th>\n",
       "      <th>tirads</th>\n",
       "      <th>reportbacaf</th>\n",
       "      <th>reporteco</th>\n",
       "    </tr>\n",
       "  </thead>\n",
       "  <tbody>\n",
       "    <tr>\n",
       "      <th>0</th>\n",
       "      <td>1</td>\n",
       "      <td>545</td>\n",
       "      <td>NaN</td>\n",
       "      <td>72.0</td>\n",
       "      <td>F</td>\n",
       "      <td>solid</td>\n",
       "      <td>marked hypoechogenecity</td>\n",
       "      <td>ill- defined</td>\n",
       "      <td>NaN</td>\n",
       "      <td>5</td>\n",
       "      <td>NaN</td>\n",
       "      <td>NaN</td>\n",
       "    </tr>\n",
       "    <tr>\n",
       "      <th>1</th>\n",
       "      <td>2</td>\n",
       "      <td>546</td>\n",
       "      <td>NaN</td>\n",
       "      <td>63.0</td>\n",
       "      <td>F</td>\n",
       "      <td>solid</td>\n",
       "      <td>isoechogenicity</td>\n",
       "      <td>microlobulated</td>\n",
       "      <td>NaN</td>\n",
       "      <td>4c</td>\n",
       "      <td>NaN</td>\n",
       "      <td>NaN</td>\n",
       "    </tr>\n",
       "    <tr>\n",
       "      <th>2</th>\n",
       "      <td>3</td>\n",
       "      <td>547</td>\n",
       "      <td>NaN</td>\n",
       "      <td>61.0</td>\n",
       "      <td>F</td>\n",
       "      <td>spongiform appareance</td>\n",
       "      <td>hypoechogenecity</td>\n",
       "      <td>well defined smooth</td>\n",
       "      <td>NaN</td>\n",
       "      <td>4a</td>\n",
       "      <td>NaN</td>\n",
       "      <td>NaN</td>\n",
       "    </tr>\n",
       "  </tbody>\n",
       "</table>\n",
       "</div>"
      ],
      "text/plain": [
       "   id  num  cancer   age sex            composition             echogenicity  \\\n",
       "0   1  545     NaN  72.0   F                  solid  marked hypoechogenecity   \n",
       "1   2  546     NaN  63.0   F                  solid          isoechogenicity   \n",
       "2   3  547     NaN  61.0   F  spongiform appareance         hypoechogenecity   \n",
       "\n",
       "               margins  calcification tirads  reportbacaf reporteco  \n",
       "0         ill- defined            NaN      5          NaN       NaN  \n",
       "1       microlobulated            NaN     4c          NaN       NaN  \n",
       "2  well defined smooth            NaN     4a          NaN       NaN  "
      ]
     },
     "execution_count": 9,
     "metadata": {},
     "output_type": "execute_result"
    }
   ],
   "source": [
    "case_df.head(3)\n"
   ]
  },
  {
   "cell_type": "code",
   "execution_count": 10,
   "metadata": {},
   "outputs": [],
   "source": [
    "coord_df['img_file'] = [img_df[img_df['id'] == n]['filename'].values[0] for n in coord_df['image_id']]\n",
    "\n"
   ]
  },
  {
   "cell_type": "code",
   "execution_count": 11,
   "metadata": {},
   "outputs": [
    {
     "data": {
      "text/html": [
       "<div>\n",
       "<style scoped>\n",
       "    .dataframe tbody tr th:only-of-type {\n",
       "        vertical-align: middle;\n",
       "    }\n",
       "\n",
       "    .dataframe tbody tr th {\n",
       "        vertical-align: top;\n",
       "    }\n",
       "\n",
       "    .dataframe thead th {\n",
       "        text-align: right;\n",
       "    }\n",
       "</style>\n",
       "<table border=\"1\" class=\"dataframe\">\n",
       "  <thead>\n",
       "    <tr style=\"text-align: right;\">\n",
       "      <th></th>\n",
       "      <th>id</th>\n",
       "      <th>image_id</th>\n",
       "      <th>x</th>\n",
       "      <th>y</th>\n",
       "      <th>w</th>\n",
       "      <th>h</th>\n",
       "      <th>img_file</th>\n",
       "    </tr>\n",
       "  </thead>\n",
       "  <tbody>\n",
       "    <tr>\n",
       "      <th>0</th>\n",
       "      <td>1</td>\n",
       "      <td>1</td>\n",
       "      <td>385</td>\n",
       "      <td>91</td>\n",
       "      <td>68</td>\n",
       "      <td>98</td>\n",
       "      <td>./data/cimalab/bening/545/1.jpg</td>\n",
       "    </tr>\n",
       "    <tr>\n",
       "      <th>1</th>\n",
       "      <td>2</td>\n",
       "      <td>2</td>\n",
       "      <td>271</td>\n",
       "      <td>72</td>\n",
       "      <td>100</td>\n",
       "      <td>143</td>\n",
       "      <td>./data/cimalab/bening/545/2.jpg</td>\n",
       "    </tr>\n",
       "    <tr>\n",
       "      <th>2</th>\n",
       "      <td>3</td>\n",
       "      <td>3</td>\n",
       "      <td>292</td>\n",
       "      <td>101</td>\n",
       "      <td>79</td>\n",
       "      <td>56</td>\n",
       "      <td>./data/cimalab/bening/549/1.jpg</td>\n",
       "    </tr>\n",
       "  </tbody>\n",
       "</table>\n",
       "</div>"
      ],
      "text/plain": [
       "   id  image_id    x    y    w    h                         img_file\n",
       "0   1         1  385   91   68   98  ./data/cimalab/bening/545/1.jpg\n",
       "1   2         2  271   72  100  143  ./data/cimalab/bening/545/2.jpg\n",
       "2   3         3  292  101   79   56  ./data/cimalab/bening/549/1.jpg"
      ]
     },
     "execution_count": 11,
     "metadata": {},
     "output_type": "execute_result"
    }
   ],
   "source": [
    "coord_df.head(3)\n",
    "\n"
   ]
  },
  {
   "cell_type": "code",
   "execution_count": 12,
   "metadata": {},
   "outputs": [
    {
     "data": {
      "text/html": [
       "<div>\n",
       "<style scoped>\n",
       "    .dataframe tbody tr th:only-of-type {\n",
       "        vertical-align: middle;\n",
       "    }\n",
       "\n",
       "    .dataframe tbody tr th {\n",
       "        vertical-align: top;\n",
       "    }\n",
       "\n",
       "    .dataframe thead th {\n",
       "        text-align: right;\n",
       "    }\n",
       "</style>\n",
       "<table border=\"1\" class=\"dataframe\">\n",
       "  <thead>\n",
       "    <tr style=\"text-align: right;\">\n",
       "      <th></th>\n",
       "      <th>id</th>\n",
       "      <th>case_id</th>\n",
       "      <th>filename</th>\n",
       "      <th>mark</th>\n",
       "    </tr>\n",
       "  </thead>\n",
       "  <tbody>\n",
       "    <tr>\n",
       "      <th>0</th>\n",
       "      <td>1</td>\n",
       "      <td>1</td>\n",
       "      <td>./data/cimalab/bening/545/1.jpg</td>\n",
       "      <td>[{\"points\": [{\"x\": 413, \"y\": 91}, {\"x\": 406, \"...</td>\n",
       "    </tr>\n",
       "    <tr>\n",
       "      <th>1</th>\n",
       "      <td>2</td>\n",
       "      <td>1</td>\n",
       "      <td>./data/cimalab/bening/545/2.jpg</td>\n",
       "      <td>[{\"points\": [{\"x\": 291, \"y\": 76}, {\"x\": 281, \"...</td>\n",
       "    </tr>\n",
       "    <tr>\n",
       "      <th>2</th>\n",
       "      <td>3</td>\n",
       "      <td>5</td>\n",
       "      <td>./data/cimalab/bening/549/1.jpg</td>\n",
       "      <td>[{\"points\": [{\"x\": 292, \"y\": 123}, {\"x\": 293, ...</td>\n",
       "    </tr>\n",
       "  </tbody>\n",
       "</table>\n",
       "</div>"
      ],
      "text/plain": [
       "   id  case_id                         filename  \\\n",
       "0   1        1  ./data/cimalab/bening/545/1.jpg   \n",
       "1   2        1  ./data/cimalab/bening/545/2.jpg   \n",
       "2   3        5  ./data/cimalab/bening/549/1.jpg   \n",
       "\n",
       "                                                mark  \n",
       "0  [{\"points\": [{\"x\": 413, \"y\": 91}, {\"x\": 406, \"...  \n",
       "1  [{\"points\": [{\"x\": 291, \"y\": 76}, {\"x\": 281, \"...  \n",
       "2  [{\"points\": [{\"x\": 292, \"y\": 123}, {\"x\": 293, ...  "
      ]
     },
     "execution_count": 12,
     "metadata": {},
     "output_type": "execute_result"
    }
   ],
   "source": [
    "img_df.head(3)"
   ]
  },
  {
   "cell_type": "code",
   "execution_count": 28,
   "metadata": {},
   "outputs": [],
   "source": [
    "random.seed(5)\n",
    "train, validate, test = np.split(new_df.sample(frac=1), [int(.8*len(new_df)), int(.9*len(new_df))])"
   ]
  },
  {
   "cell_type": "code",
   "execution_count": 52,
   "metadata": {},
   "outputs": [
    {
     "data": {
      "text/html": [
       "<div>\n",
       "<style scoped>\n",
       "    .dataframe tbody tr th:only-of-type {\n",
       "        vertical-align: middle;\n",
       "    }\n",
       "\n",
       "    .dataframe tbody tr th {\n",
       "        vertical-align: top;\n",
       "    }\n",
       "\n",
       "    .dataframe thead th {\n",
       "        text-align: right;\n",
       "    }\n",
       "</style>\n",
       "<table border=\"1\" class=\"dataframe\">\n",
       "  <thead>\n",
       "    <tr style=\"text-align: right;\">\n",
       "      <th></th>\n",
       "      <th>id</th>\n",
       "      <th>image_id</th>\n",
       "      <th>x</th>\n",
       "      <th>y</th>\n",
       "      <th>w</th>\n",
       "      <th>h</th>\n",
       "      <th>img_file</th>\n",
       "    </tr>\n",
       "  </thead>\n",
       "  <tbody>\n",
       "    <tr>\n",
       "      <th>695</th>\n",
       "      <td>696</td>\n",
       "      <td>558</td>\n",
       "      <td>405</td>\n",
       "      <td>98</td>\n",
       "      <td>111</td>\n",
       "      <td>64</td>\n",
       "      <td>./data/cimalab/thyroid/62_1.jpg</td>\n",
       "    </tr>\n",
       "    <tr>\n",
       "      <th>110</th>\n",
       "      <td>111</td>\n",
       "      <td>111</td>\n",
       "      <td>254</td>\n",
       "      <td>145</td>\n",
       "      <td>79</td>\n",
       "      <td>67</td>\n",
       "      <td>./data/cimalab/maling/571/1.jpg</td>\n",
       "    </tr>\n",
       "    <tr>\n",
       "      <th>122</th>\n",
       "      <td>123</td>\n",
       "      <td>122</td>\n",
       "      <td>237</td>\n",
       "      <td>132</td>\n",
       "      <td>59</td>\n",
       "      <td>37</td>\n",
       "      <td>./data/cimalab/maling/612/1.jpg</td>\n",
       "    </tr>\n",
       "    <tr>\n",
       "      <th>231</th>\n",
       "      <td>232</td>\n",
       "      <td>197</td>\n",
       "      <td>270</td>\n",
       "      <td>93</td>\n",
       "      <td>78</td>\n",
       "      <td>43</td>\n",
       "      <td>./data/cimalab/thyroid/143_1.jpg</td>\n",
       "    </tr>\n",
       "    <tr>\n",
       "      <th>722</th>\n",
       "      <td>723</td>\n",
       "      <td>578</td>\n",
       "      <td>127</td>\n",
       "      <td>78</td>\n",
       "      <td>90</td>\n",
       "      <td>45</td>\n",
       "      <td>./data/cimalab/thyroid/74_1.jpg</td>\n",
       "    </tr>\n",
       "  </tbody>\n",
       "</table>\n",
       "</div>"
      ],
      "text/plain": [
       "      id  image_id    x    y    w   h                          img_file\n",
       "695  696       558  405   98  111  64   ./data/cimalab/thyroid/62_1.jpg\n",
       "110  111       111  254  145   79  67   ./data/cimalab/maling/571/1.jpg\n",
       "122  123       122  237  132   59  37   ./data/cimalab/maling/612/1.jpg\n",
       "231  232       197  270   93   78  43  ./data/cimalab/thyroid/143_1.jpg\n",
       "722  723       578  127   78   90  45   ./data/cimalab/thyroid/74_1.jpg"
      ]
     },
     "execution_count": 52,
     "metadata": {},
     "output_type": "execute_result"
    }
   ],
   "source": [
    "train.head(5)\n",
    "num_list = train.image_id.values\n"
   ]
  },
  {
   "cell_type": "code",
   "execution_count": 60,
   "metadata": {},
   "outputs": [],
   "source": [
    "for num in num_list:\n",
    "    df = train[train.image_id == num]\n",
    "    img = Image.open(df.img_file.values[0])\n",
    "    img.save('./data/TRAIN/img_'+str(num), 'JPEG')"
   ]
  },
  {
   "cell_type": "code",
   "execution_count": 62,
   "metadata": {},
   "outputs": [],
   "source": [
    "num_list = validate.image_id.values\n",
    "for num in num_list:\n",
    "    df = validate[validate.image_id == num]\n",
    "    img = Image.open(df.img_file.values[0])\n",
    "    img.save('./data/VALIDATION/img_'+str(num), 'JPEG')"
   ]
  },
  {
   "cell_type": "code",
   "execution_count": 63,
   "metadata": {},
   "outputs": [],
   "source": [
    "num_list = test.image_id.values\n",
    "for num in num_list:\n",
    "    df = test[test.image_id == num]\n",
    "    img = Image.open(df.img_file.values[0])\n",
    "    img.save('./data/TEST/img_'+str(num), 'JPEG')"
   ]
  },
  {
   "cell_type": "code",
   "execution_count": null,
   "metadata": {},
   "outputs": [],
   "source": []
  },
  {
   "cell_type": "code",
   "execution_count": null,
   "metadata": {},
   "outputs": [],
   "source": [
    "\n"
   ]
  },
  {
   "cell_type": "code",
   "execution_count": null,
   "metadata": {},
   "outputs": [],
   "source": []
  },
  {
   "cell_type": "code",
   "execution_count": null,
   "metadata": {},
   "outputs": [],
   "source": []
  },
  {
   "cell_type": "code",
   "execution_count": null,
   "metadata": {},
   "outputs": [],
   "source": [
    "\n"
   ]
  }
 ],
 "metadata": {
  "kernelspec": {
   "display_name": "Python 3",
   "language": "python",
   "name": "python3"
  },
  "language_info": {
   "codemirror_mode": {
    "name": "ipython",
    "version": 3
   },
   "file_extension": ".py",
   "mimetype": "text/x-python",
   "name": "python",
   "nbconvert_exporter": "python",
   "pygments_lexer": "ipython3",
   "version": "3.7.2"
  }
 },
 "nbformat": 4,
 "nbformat_minor": 2
}
