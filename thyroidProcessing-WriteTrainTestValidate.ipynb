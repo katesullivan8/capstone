{
 "cells": [
  {
   "cell_type": "code",
   "execution_count": 1,
   "metadata": {},
   "outputs": [
    {
     "name": "stderr",
     "output_type": "stream",
     "text": [
      "Using TensorFlow backend.\n"
     ]
    }
   ],
   "source": [
    "import random\n",
    "import pandas as pd\n",
    "import numpy as np\n",
    "import sklearn\n",
    "import matplotlib.image as mpimg\n",
    "import matplotlib.pyplot as plt\n",
    "from keras.preprocessing.image import ImageDataGenerator\n",
    "from PIL import Image\n",
    "import requests\n",
    "from io import BytesIO\n",
    "from scipy import stats\n",
    "from sklearn import preprocessing\n",
    "from sklearn import linear_model\n",
    "from sklearn import model_selection\n",
    "from sklearn.metrics import mean_squared_error\n",
    "from sklearn.metrics import r2_score\n",
    "import tensorflow as tf\n",
    "import math\n",
    "import cv2\n"
   ]
  },
  {
   "cell_type": "code",
   "execution_count": 2,
   "metadata": {},
   "outputs": [],
   "source": [
    "case_path = './data/thyroidCSV/cases.csv'\n",
    "coord_path = './data/thyroidCSV/coors.csv'\n",
    "img_path = './data/thyroidCSV/images.csv'\n",
    "\n",
    "case_df = pd.read_csv(case_path)\n",
    "coord_df = pd.read_csv(coord_path)\n",
    "img_df = pd.read_csv(img_path)"
   ]
  },
  {
   "cell_type": "code",
   "execution_count": 3,
   "metadata": {},
   "outputs": [],
   "source": [
    "\n",
    "all_img_path = './data/all_images_by_coord_id/'\n",
    "\n",
    "img_ids = ['img_'+str(num) for num in range(1, len(coord_df)+1)]\n"
   ]
  },
  {
   "cell_type": "code",
   "execution_count": 4,
   "metadata": {},
   "outputs": [],
   "source": [
    "# resize images\n",
    "imgs = [Image.open(all_img_path+im_id) for im_id in img_ids]\n",
    "imgs = [np.array(im) for im in imgs]\n",
    "imgs = [cv2.copyMakeBorder(im,0,200,0,0,cv2.BORDER_CONSTANT) for im in imgs]\n"
   ]
  },
  {
   "cell_type": "code",
   "execution_count": 5,
   "metadata": {},
   "outputs": [],
   "source": [
    "imgs = [Image.fromarray(im) for im in imgs]"
   ]
  },
  {
   "cell_type": "code",
   "execution_count": 6,
   "metadata": {},
   "outputs": [],
   "source": [
    "new_size = (416, 416)\n",
    "for im in imgs:\n",
    "    im.thumbnail(new_size)  "
   ]
  },
  {
   "cell_type": "code",
   "execution_count": 7,
   "metadata": {},
   "outputs": [],
   "source": [
    "new_imgs = [im.resize(new_size) for im in imgs]\n",
    "imgs = new_imgs"
   ]
  },
  {
   "cell_type": "code",
   "execution_count": 8,
   "metadata": {},
   "outputs": [
    {
     "data": {
      "text/plain": [
       "{(416, 416)}"
      ]
     },
     "execution_count": 8,
     "metadata": {},
     "output_type": "execute_result"
    }
   ],
   "source": [
    "# check for uniformity\n",
    "sizes = [im.size for im in imgs]\n",
    "set(sizes)\n"
   ]
  },
  {
   "cell_type": "code",
   "execution_count": 9,
   "metadata": {},
   "outputs": [],
   "source": [
    "i = 0\n",
    "new_path = []\n",
    "basepath = 'data/resized_imgs/'\n",
    "for im in imgs:\n",
    "    im.save(basepath+img_ids[i], \"PNG\")\n",
    "    new_path.append(basepath+img_ids[i])\n",
    "    i+=1\n"
   ]
  },
  {
   "cell_type": "code",
   "execution_count": 10,
   "metadata": {},
   "outputs": [],
   "source": [
    "files = img_df['filename'].values\n",
    "filenames = ['./data/'+ x for x in files]\n",
    "\n"
   ]
  },
  {
   "cell_type": "code",
   "execution_count": 11,
   "metadata": {},
   "outputs": [],
   "source": [
    "img_df['filename'] = filenames\n"
   ]
  },
  {
   "cell_type": "code",
   "execution_count": 12,
   "metadata": {},
   "outputs": [
    {
     "data": {
      "text/html": [
       "<div>\n",
       "<style scoped>\n",
       "    .dataframe tbody tr th:only-of-type {\n",
       "        vertical-align: middle;\n",
       "    }\n",
       "\n",
       "    .dataframe tbody tr th {\n",
       "        vertical-align: top;\n",
       "    }\n",
       "\n",
       "    .dataframe thead th {\n",
       "        text-align: right;\n",
       "    }\n",
       "</style>\n",
       "<table border=\"1\" class=\"dataframe\">\n",
       "  <thead>\n",
       "    <tr style=\"text-align: right;\">\n",
       "      <th></th>\n",
       "      <th>id</th>\n",
       "      <th>case_id</th>\n",
       "      <th>filename</th>\n",
       "      <th>mark</th>\n",
       "    </tr>\n",
       "  </thead>\n",
       "  <tbody>\n",
       "    <tr>\n",
       "      <th>0</th>\n",
       "      <td>1</td>\n",
       "      <td>1</td>\n",
       "      <td>./data/cimalab/bening/545/1.jpg</td>\n",
       "      <td>[{\"points\": [{\"x\": 413, \"y\": 91}, {\"x\": 406, \"...</td>\n",
       "    </tr>\n",
       "    <tr>\n",
       "      <th>1</th>\n",
       "      <td>2</td>\n",
       "      <td>1</td>\n",
       "      <td>./data/cimalab/bening/545/2.jpg</td>\n",
       "      <td>[{\"points\": [{\"x\": 291, \"y\": 76}, {\"x\": 281, \"...</td>\n",
       "    </tr>\n",
       "    <tr>\n",
       "      <th>2</th>\n",
       "      <td>3</td>\n",
       "      <td>5</td>\n",
       "      <td>./data/cimalab/bening/549/1.jpg</td>\n",
       "      <td>[{\"points\": [{\"x\": 292, \"y\": 123}, {\"x\": 293, ...</td>\n",
       "    </tr>\n",
       "    <tr>\n",
       "      <th>3</th>\n",
       "      <td>4</td>\n",
       "      <td>5</td>\n",
       "      <td>./data/cimalab/bening/549/2.jpg</td>\n",
       "      <td>[{\"points\": [{\"x\": 259, \"y\": 142}, {\"x\": 258, ...</td>\n",
       "    </tr>\n",
       "    <tr>\n",
       "      <th>4</th>\n",
       "      <td>5</td>\n",
       "      <td>6</td>\n",
       "      <td>./data/cimalab/bening/550/1.jpg</td>\n",
       "      <td>[{\"points\": [{\"x\": 236, \"y\": 110}, {\"x\": 236, ...</td>\n",
       "    </tr>\n",
       "    <tr>\n",
       "      <th>5</th>\n",
       "      <td>6</td>\n",
       "      <td>6</td>\n",
       "      <td>./data/cimalab/bening/550/2.jpg</td>\n",
       "      <td>[{\"points\": [{\"x\": 229, \"y\": 92}, {\"x\": 226, \"...</td>\n",
       "    </tr>\n",
       "    <tr>\n",
       "      <th>6</th>\n",
       "      <td>7</td>\n",
       "      <td>6</td>\n",
       "      <td>./data/cimalab/bening/550/3.jpg</td>\n",
       "      <td>[{\"points\": [{\"x\": 146, \"y\": 159}, {\"x\": 173, ...</td>\n",
       "    </tr>\n",
       "    <tr>\n",
       "      <th>7</th>\n",
       "      <td>8</td>\n",
       "      <td>7</td>\n",
       "      <td>./data/cimalab/bening/551/1.jpg</td>\n",
       "      <td>[{\"points\": [{\"x\": 260, \"y\": 117}, {\"x\": 257, ...</td>\n",
       "    </tr>\n",
       "    <tr>\n",
       "      <th>8</th>\n",
       "      <td>9</td>\n",
       "      <td>7</td>\n",
       "      <td>./data/cimalab/bening/551/2.jpg</td>\n",
       "      <td>[{\"points\": [{\"x\": 283, \"y\": 116}, {\"x\": 271, ...</td>\n",
       "    </tr>\n",
       "    <tr>\n",
       "      <th>9</th>\n",
       "      <td>10</td>\n",
       "      <td>7</td>\n",
       "      <td>./data/cimalab/bening/551/3.jpg</td>\n",
       "      <td>[{\"points\": [{\"x\": 310, \"y\": 161}, {\"x\": 302, ...</td>\n",
       "    </tr>\n",
       "  </tbody>\n",
       "</table>\n",
       "</div>"
      ],
      "text/plain": [
       "   id  case_id                         filename  \\\n",
       "0   1        1  ./data/cimalab/bening/545/1.jpg   \n",
       "1   2        1  ./data/cimalab/bening/545/2.jpg   \n",
       "2   3        5  ./data/cimalab/bening/549/1.jpg   \n",
       "3   4        5  ./data/cimalab/bening/549/2.jpg   \n",
       "4   5        6  ./data/cimalab/bening/550/1.jpg   \n",
       "5   6        6  ./data/cimalab/bening/550/2.jpg   \n",
       "6   7        6  ./data/cimalab/bening/550/3.jpg   \n",
       "7   8        7  ./data/cimalab/bening/551/1.jpg   \n",
       "8   9        7  ./data/cimalab/bening/551/2.jpg   \n",
       "9  10        7  ./data/cimalab/bening/551/3.jpg   \n",
       "\n",
       "                                                mark  \n",
       "0  [{\"points\": [{\"x\": 413, \"y\": 91}, {\"x\": 406, \"...  \n",
       "1  [{\"points\": [{\"x\": 291, \"y\": 76}, {\"x\": 281, \"...  \n",
       "2  [{\"points\": [{\"x\": 292, \"y\": 123}, {\"x\": 293, ...  \n",
       "3  [{\"points\": [{\"x\": 259, \"y\": 142}, {\"x\": 258, ...  \n",
       "4  [{\"points\": [{\"x\": 236, \"y\": 110}, {\"x\": 236, ...  \n",
       "5  [{\"points\": [{\"x\": 229, \"y\": 92}, {\"x\": 226, \"...  \n",
       "6  [{\"points\": [{\"x\": 146, \"y\": 159}, {\"x\": 173, ...  \n",
       "7  [{\"points\": [{\"x\": 260, \"y\": 117}, {\"x\": 257, ...  \n",
       "8  [{\"points\": [{\"x\": 283, \"y\": 116}, {\"x\": 271, ...  \n",
       "9  [{\"points\": [{\"x\": 310, \"y\": 161}, {\"x\": 302, ...  "
      ]
     },
     "execution_count": 12,
     "metadata": {},
     "output_type": "execute_result"
    }
   ],
   "source": [
    "img_df.head(10)"
   ]
  },
  {
   "cell_type": "code",
   "execution_count": 13,
   "metadata": {},
   "outputs": [
    {
     "data": {
      "text/html": [
       "<div>\n",
       "<style scoped>\n",
       "    .dataframe tbody tr th:only-of-type {\n",
       "        vertical-align: middle;\n",
       "    }\n",
       "\n",
       "    .dataframe tbody tr th {\n",
       "        vertical-align: top;\n",
       "    }\n",
       "\n",
       "    .dataframe thead th {\n",
       "        text-align: right;\n",
       "    }\n",
       "</style>\n",
       "<table border=\"1\" class=\"dataframe\">\n",
       "  <thead>\n",
       "    <tr style=\"text-align: right;\">\n",
       "      <th></th>\n",
       "      <th>id</th>\n",
       "      <th>num</th>\n",
       "      <th>cancer</th>\n",
       "      <th>age</th>\n",
       "      <th>sex</th>\n",
       "      <th>composition</th>\n",
       "      <th>echogenicity</th>\n",
       "      <th>margins</th>\n",
       "      <th>calcification</th>\n",
       "      <th>tirads</th>\n",
       "      <th>reportbacaf</th>\n",
       "      <th>reporteco</th>\n",
       "    </tr>\n",
       "  </thead>\n",
       "  <tbody>\n",
       "    <tr>\n",
       "      <th>0</th>\n",
       "      <td>1</td>\n",
       "      <td>545</td>\n",
       "      <td>NaN</td>\n",
       "      <td>72.0</td>\n",
       "      <td>F</td>\n",
       "      <td>solid</td>\n",
       "      <td>marked hypoechogenecity</td>\n",
       "      <td>ill- defined</td>\n",
       "      <td>NaN</td>\n",
       "      <td>5</td>\n",
       "      <td>NaN</td>\n",
       "      <td>NaN</td>\n",
       "    </tr>\n",
       "    <tr>\n",
       "      <th>1</th>\n",
       "      <td>2</td>\n",
       "      <td>546</td>\n",
       "      <td>NaN</td>\n",
       "      <td>63.0</td>\n",
       "      <td>F</td>\n",
       "      <td>solid</td>\n",
       "      <td>isoechogenicity</td>\n",
       "      <td>microlobulated</td>\n",
       "      <td>NaN</td>\n",
       "      <td>4c</td>\n",
       "      <td>NaN</td>\n",
       "      <td>NaN</td>\n",
       "    </tr>\n",
       "    <tr>\n",
       "      <th>2</th>\n",
       "      <td>3</td>\n",
       "      <td>547</td>\n",
       "      <td>NaN</td>\n",
       "      <td>61.0</td>\n",
       "      <td>F</td>\n",
       "      <td>spongiform appareance</td>\n",
       "      <td>hypoechogenecity</td>\n",
       "      <td>well defined smooth</td>\n",
       "      <td>NaN</td>\n",
       "      <td>4a</td>\n",
       "      <td>NaN</td>\n",
       "      <td>NaN</td>\n",
       "    </tr>\n",
       "  </tbody>\n",
       "</table>\n",
       "</div>"
      ],
      "text/plain": [
       "   id  num  cancer   age sex            composition             echogenicity  \\\n",
       "0   1  545     NaN  72.0   F                  solid  marked hypoechogenecity   \n",
       "1   2  546     NaN  63.0   F                  solid          isoechogenicity   \n",
       "2   3  547     NaN  61.0   F  spongiform appareance         hypoechogenecity   \n",
       "\n",
       "               margins  calcification tirads  reportbacaf reporteco  \n",
       "0         ill- defined            NaN      5          NaN       NaN  \n",
       "1       microlobulated            NaN     4c          NaN       NaN  \n",
       "2  well defined smooth            NaN     4a          NaN       NaN  "
      ]
     },
     "execution_count": 13,
     "metadata": {},
     "output_type": "execute_result"
    }
   ],
   "source": [
    "case_df.head(3)\n"
   ]
  },
  {
   "cell_type": "code",
   "execution_count": 14,
   "metadata": {},
   "outputs": [],
   "source": [
    "coord_df['img_file'] = [img_df[img_df['id'] == n]['filename'].values[0] for n in coord_df['image_id']]\n",
    "\n"
   ]
  },
  {
   "cell_type": "code",
   "execution_count": 15,
   "metadata": {},
   "outputs": [
    {
     "data": {
      "text/html": [
       "<div>\n",
       "<style scoped>\n",
       "    .dataframe tbody tr th:only-of-type {\n",
       "        vertical-align: middle;\n",
       "    }\n",
       "\n",
       "    .dataframe tbody tr th {\n",
       "        vertical-align: top;\n",
       "    }\n",
       "\n",
       "    .dataframe thead th {\n",
       "        text-align: right;\n",
       "    }\n",
       "</style>\n",
       "<table border=\"1\" class=\"dataframe\">\n",
       "  <thead>\n",
       "    <tr style=\"text-align: right;\">\n",
       "      <th></th>\n",
       "      <th>id</th>\n",
       "      <th>image_id</th>\n",
       "      <th>x</th>\n",
       "      <th>y</th>\n",
       "      <th>w</th>\n",
       "      <th>h</th>\n",
       "      <th>img_file</th>\n",
       "    </tr>\n",
       "  </thead>\n",
       "  <tbody>\n",
       "    <tr>\n",
       "      <th>0</th>\n",
       "      <td>1</td>\n",
       "      <td>1</td>\n",
       "      <td>385</td>\n",
       "      <td>91</td>\n",
       "      <td>68</td>\n",
       "      <td>98</td>\n",
       "      <td>./data/cimalab/bening/545/1.jpg</td>\n",
       "    </tr>\n",
       "    <tr>\n",
       "      <th>1</th>\n",
       "      <td>2</td>\n",
       "      <td>2</td>\n",
       "      <td>271</td>\n",
       "      <td>72</td>\n",
       "      <td>100</td>\n",
       "      <td>143</td>\n",
       "      <td>./data/cimalab/bening/545/2.jpg</td>\n",
       "    </tr>\n",
       "    <tr>\n",
       "      <th>2</th>\n",
       "      <td>3</td>\n",
       "      <td>3</td>\n",
       "      <td>292</td>\n",
       "      <td>101</td>\n",
       "      <td>79</td>\n",
       "      <td>56</td>\n",
       "      <td>./data/cimalab/bening/549/1.jpg</td>\n",
       "    </tr>\n",
       "    <tr>\n",
       "      <th>3</th>\n",
       "      <td>4</td>\n",
       "      <td>4</td>\n",
       "      <td>258</td>\n",
       "      <td>95</td>\n",
       "      <td>69</td>\n",
       "      <td>53</td>\n",
       "      <td>./data/cimalab/bening/549/2.jpg</td>\n",
       "    </tr>\n",
       "    <tr>\n",
       "      <th>4</th>\n",
       "      <td>5</td>\n",
       "      <td>5</td>\n",
       "      <td>235</td>\n",
       "      <td>71</td>\n",
       "      <td>104</td>\n",
       "      <td>138</td>\n",
       "      <td>./data/cimalab/bening/550/1.jpg</td>\n",
       "    </tr>\n",
       "  </tbody>\n",
       "</table>\n",
       "</div>"
      ],
      "text/plain": [
       "   id  image_id    x    y    w    h                         img_file\n",
       "0   1         1  385   91   68   98  ./data/cimalab/bening/545/1.jpg\n",
       "1   2         2  271   72  100  143  ./data/cimalab/bening/545/2.jpg\n",
       "2   3         3  292  101   79   56  ./data/cimalab/bening/549/1.jpg\n",
       "3   4         4  258   95   69   53  ./data/cimalab/bening/549/2.jpg\n",
       "4   5         5  235   71  104  138  ./data/cimalab/bening/550/1.jpg"
      ]
     },
     "execution_count": 15,
     "metadata": {},
     "output_type": "execute_result"
    }
   ],
   "source": [
    "coord_df.head(5)\n"
   ]
  },
  {
   "cell_type": "code",
   "execution_count": 16,
   "metadata": {},
   "outputs": [
    {
     "data": {
      "text/html": [
       "<div>\n",
       "<style scoped>\n",
       "    .dataframe tbody tr th:only-of-type {\n",
       "        vertical-align: middle;\n",
       "    }\n",
       "\n",
       "    .dataframe tbody tr th {\n",
       "        vertical-align: top;\n",
       "    }\n",
       "\n",
       "    .dataframe thead th {\n",
       "        text-align: right;\n",
       "    }\n",
       "</style>\n",
       "<table border=\"1\" class=\"dataframe\">\n",
       "  <thead>\n",
       "    <tr style=\"text-align: right;\">\n",
       "      <th></th>\n",
       "      <th>id</th>\n",
       "      <th>case_id</th>\n",
       "      <th>filename</th>\n",
       "      <th>mark</th>\n",
       "    </tr>\n",
       "  </thead>\n",
       "  <tbody>\n",
       "    <tr>\n",
       "      <th>0</th>\n",
       "      <td>1</td>\n",
       "      <td>1</td>\n",
       "      <td>./data/cimalab/bening/545/1.jpg</td>\n",
       "      <td>[{\"points\": [{\"x\": 413, \"y\": 91}, {\"x\": 406, \"...</td>\n",
       "    </tr>\n",
       "    <tr>\n",
       "      <th>1</th>\n",
       "      <td>2</td>\n",
       "      <td>1</td>\n",
       "      <td>./data/cimalab/bening/545/2.jpg</td>\n",
       "      <td>[{\"points\": [{\"x\": 291, \"y\": 76}, {\"x\": 281, \"...</td>\n",
       "    </tr>\n",
       "    <tr>\n",
       "      <th>2</th>\n",
       "      <td>3</td>\n",
       "      <td>5</td>\n",
       "      <td>./data/cimalab/bening/549/1.jpg</td>\n",
       "      <td>[{\"points\": [{\"x\": 292, \"y\": 123}, {\"x\": 293, ...</td>\n",
       "    </tr>\n",
       "  </tbody>\n",
       "</table>\n",
       "</div>"
      ],
      "text/plain": [
       "   id  case_id                         filename  \\\n",
       "0   1        1  ./data/cimalab/bening/545/1.jpg   \n",
       "1   2        1  ./data/cimalab/bening/545/2.jpg   \n",
       "2   3        5  ./data/cimalab/bening/549/1.jpg   \n",
       "\n",
       "                                                mark  \n",
       "0  [{\"points\": [{\"x\": 413, \"y\": 91}, {\"x\": 406, \"...  \n",
       "1  [{\"points\": [{\"x\": 291, \"y\": 76}, {\"x\": 281, \"...  \n",
       "2  [{\"points\": [{\"x\": 292, \"y\": 123}, {\"x\": 293, ...  "
      ]
     },
     "execution_count": 16,
     "metadata": {},
     "output_type": "execute_result"
    }
   ],
   "source": [
    "img_df.head(3)"
   ]
  },
  {
   "cell_type": "code",
   "execution_count": 17,
   "metadata": {},
   "outputs": [],
   "source": [
    "\n",
    "# new_df = coord_df.copy()\n",
    "# train, validate, test = np.split(new_df.sample(frac=1), [int(.8*len(new_df)), int(.9*len(new_df))])"
   ]
  },
  {
   "cell_type": "code",
   "execution_count": 18,
   "metadata": {},
   "outputs": [],
   "source": [
    "# train.to_csv('./data/train_df.csv')\n",
    "# validate.to_csv('./data/validate_df.csv')\n",
    "# test.to_csv('./data/test_df.csv')"
   ]
  },
  {
   "cell_type": "code",
   "execution_count": 19,
   "metadata": {},
   "outputs": [],
   "source": [
    "train = pd.read_csv('./data/train_df.csv')\n",
    "validate = pd.read_csv('./data/validate_df.csv')\n",
    "test = pd.read_csv('./data/test_df.csv')\n",
    "\n"
   ]
  },
  {
   "cell_type": "code",
   "execution_count": 20,
   "metadata": {},
   "outputs": [],
   "source": [
    "train.head(5)\n",
    "num_list = train.image_id.values\n"
   ]
  },
  {
   "cell_type": "code",
   "execution_count": 21,
   "metadata": {},
   "outputs": [],
   "source": [
    "# DARKNET/AlexeyAB implementation\n",
    "# def find_center_scaled(x, y, w, h):\n",
    "#     # pass in x, y, w, h from df.values\n",
    "#     end_x = x + w\n",
    "#     end_y = y - h\n",
    "#     center_x = (x + end_x)/2\n",
    "#     center_y = (y + end_y)/2\n",
    "#     # method suggested here: https://github.com/AlexeyAB/Yolo_mark/issues/60\n",
    "#     scaled_x = center_x/560\n",
    "#     scaled_y = center_y/360\n",
    "#     scaled_w = w/560\n",
    "#     scaled_h = h/360\n",
    "    \n",
    "#     return scaled_x, scaled_y, scaled_w, scaled_h\n",
    "\n",
    "\n",
    "# def write_files(df_name):\n",
    "#     str_name =[x for x in globals() if globals()[x] is df_name][0]\n",
    "#     txt_files = []\n",
    "#     num_list = df_name.image_id.values\n",
    "#     for num in num_list:\n",
    "#         df = df_name[df_name.image_id == num]\n",
    "#         dim = df.values[0]\n",
    "#         s_x, s_y, s_w, s_h = find_center_scaled(dim[2], dim[3], dim[4], dim[5])\n",
    "#         f = open('./data/{}_annot/img_{}.txt'.format(str_name, num),\"w+\")\n",
    "#         f.write('1 {} {} {} {}'.format(s_x, s_y, s_w, s_h))\n",
    "#         f.close()\n",
    "#         txt_files.append('./data/{}/img_{}.txt'.format(str_name, num))\n",
    "#         img = Image.open(df.img_file.values[0])\n",
    "#         img.save('./data/'+str_name+'/img_'+str(num)+'.jpg', 'JPEG')\n",
    "#     f = open('./data/{}.txt'.format(str_name), 'w+')\n",
    "#     for t in txt_files:\n",
    "#         f.write(t+'\\n')\n",
    "#     f.close()\n"
   ]
  },
  {
   "cell_type": "code",
   "execution_count": 22,
   "metadata": {},
   "outputs": [],
   "source": [
    "# VOC format\n",
    "import xml.etree.ElementTree as ET\n",
    "import xml.dom.minidom\n",
    "def prep_for_VOC(x, y, w, h, folder, filename):\n",
    "    if 'train' in folder:\n",
    "        folder = 'train'\n",
    "    if 'valid' in folder:\n",
    "        folder = 'validate'\n",
    "    if 'test' in folder:\n",
    "        folder = 'test'\n",
    "    x = round(x*.75 - 4)\n",
    "    y = round(y*.75 - 4)\n",
    "    w = round(w*.75 - 4)\n",
    "    h = round(h*.75 - 4)\n",
    "    root = ET.Element('annotation')\n",
    "    fol_elem = ET.SubElement(root, 'folder')\n",
    "    fol_elem.text = folder\n",
    "    file_elem = ET.SubElement(root, 'filename')\n",
    "    file_elem.text = filename\n",
    "    path_elem = ET.SubElement(root,'path')\n",
    "    path_elem.text = ('/Users/kathleensullivan/PythonNYCDSA/Machine_Learning/capstone/data/'+folder+'/'+filename)\n",
    "    src_elem = ET.SubElement(root, 'source')\n",
    "    db = ET.SubElement(src_elem, 'database')\n",
    "    db.text=('Unknown')\n",
    "    sz_elem = ET.SubElement(root, 'size')\n",
    "    w_elem = ET.SubElement(sz_elem, 'width')\n",
    "    w_elem.text = str(w)\n",
    "    h_elem = ET.SubElement(sz_elem, 'height')\n",
    "    h_elem.text = str(h)\n",
    "    d_elem = ET.SubElement(sz_elem, 'depth')\n",
    "    d_elem.text = '3'\n",
    "    seg_elem = ET.SubElement(root,'segmented')\n",
    "    seg_elem.text='0'\n",
    "    obj_elem = ET.SubElement(root, 'object')\n",
    "    name_elem = ET.SubElement(obj_elem,'name')\n",
    "    name_elem.text = 'lesion'\n",
    "    pose_elem = ET.SubElement(obj_elem,'pose')\n",
    "    pose_elem.text = 'Unspecified'\n",
    "    trunc_elem = ET.SubElement(obj_elem,'truncated')\n",
    "    trunc_elem.text = '0'\n",
    "    dif_elem = ET.SubElement(obj_elem,'difficult')\n",
    "    dif_elem.text = '0'\n",
    "    \n",
    "    bb_elem = ET.SubElement(obj_elem,'bndbox')\n",
    "    xmin_elem = ET.SubElement(bb_elem,'xmin')\n",
    "    xmin_elem.text = str(x)\n",
    "    xmax_elem = ET.SubElement(bb_elem,'xmax')\n",
    "    xmax_elem.text = str(x + w)\n",
    "    ymin_elem = ET.SubElement(bb_elem,'ymin')\n",
    "    ymin_elem.text = str(y)\n",
    "    ymax_elem = ET.SubElement(bb_elem,'ymax')\n",
    "    ymax_elem.text = str(y + h)\n",
    "    return root\n",
    "    "
   ]
  },
  {
   "cell_type": "code",
   "execution_count": 23,
   "metadata": {},
   "outputs": [],
   "source": [
    "from xml.etree.ElementTree import Element, SubElement, Comment, tostring\n",
    "from xml.dom import minidom\n",
    "\n",
    "\n",
    "def write_files(df_name):\n",
    "    str_name =[x for x in globals() if globals()[x] is df_name][0]\n",
    "    txt_files = []\n",
    "    num_list = df_name.image_id.values\n",
    "    for num in num_list:\n",
    "        df = df_name[df_name.image_id == num]\n",
    "        dim = df.values[0]\n",
    "        \n",
    "        tree = ET.tostring(prep_for_VOC(dim[2],dim[3], dim[4], dim[5], str_name+'_annot', 'img_{}.png'.format(num)) )\n",
    "        xmlstr = minidom.parseString(tree)\n",
    "        xmlstr = xmlstr.toprettyxml() \n",
    "        xmlstr = xmlstr[22:].strip()\n",
    "        with open('./data/{}_annot/img_{}.xml'.format(str_name, num), 'w') as f:\n",
    "             f.write(xmlstr)\n",
    "        txt_files.append('./data/{}/img_{}.xml'.format(str_name, num))\n",
    "        img = Image.open(df.new_path.values[0]).convert('LA')\n",
    "        \n",
    "        img.save('./data/'+str_name+'/img_'+str(num)+'.png', 'PNG')\n",
    "    f = open('./data/{}.txt'.format(str_name), 'w+')\n",
    "    for t in txt_files:\n",
    "        f.write(t+'\\n')\n",
    "    f.close()\n",
    "    "
   ]
  },
  {
   "cell_type": "code",
   "execution_count": 24,
   "metadata": {},
   "outputs": [],
   "source": [
    "# random.seed(5)\n",
    "# train=train.copy(deep=True)\n",
    "# train = train.sample(30)\n",
    "# validate = validate.sample(10)\n",
    "# test = test.sample(10)\n"
   ]
  },
  {
   "cell_type": "code",
   "execution_count": 25,
   "metadata": {},
   "outputs": [],
   "source": [
    "### write partial files for testing\n",
    "# write_files(train)\n",
    "# write_files(validate)\n",
    "# write_files(test)"
   ]
  },
  {
   "cell_type": "code",
   "execution_count": 26,
   "metadata": {},
   "outputs": [],
   "source": [
    "#### full files\n",
    "write_files(validate)\n",
    "write_files(train)\n",
    "write_files(test)\n"
   ]
  },
  {
   "cell_type": "code",
   "execution_count": 27,
   "metadata": {},
   "outputs": [
    {
     "ename": "SyntaxError",
     "evalue": "invalid syntax (<ipython-input-27-b3bb69309631>, line 15)",
     "output_type": "error",
     "traceback": [
      "\u001b[0;36m  File \u001b[0;32m\"<ipython-input-27-b3bb69309631>\"\u001b[0;36m, line \u001b[0;32m15\u001b[0m\n\u001b[0;31m    f.write('lesion', {} {} {} {}'.format(left, top, right, bottom))\u001b[0m\n\u001b[0m                         ^\u001b[0m\n\u001b[0;31mSyntaxError\u001b[0m\u001b[0;31m:\u001b[0m invalid syntax\n"
     ]
    }
   ],
   "source": [
    "# Create ground truth files\n",
    "def scale(num):\n",
    "    return round(num*.75-4)\n",
    "\n",
    "\n",
    "def write_gr_truth(df_name):\n",
    "    str_name =[x for x in globals() if globals()[x] is df_name][0]\n",
    "    txt_files = []\n",
    "    num_list = df_name.image_id.values\n",
    "    for num in num_list:\n",
    "        df = df_name[df_name.image_id == num]\n",
    "        dim = df.values[0]\n",
    "        left, top, right, bottom = scale(dim[2]), scale(dim[3]), scale(dim[4] + dim[2]), scale(dim[5]+dim[3])\n",
    "        f = open('./data/{}_annot/img_{}.txt'.format(str_name, num),\"w+\")\n",
    "        f.write('lesion', {} {} {} {}'.format(left, top, right, bottom)\n",
    "        f.close()\n",
    "        txt_files.append('./data/{}/img_{}.txt'.format(str_name, num))\n",
    "        img = Image.open(df.img_file.values[0])\n",
    "        img.save('./Object-Detection-Metrics/groundtruth/'+str_name+'/img_'+str(num)+'.png', 'PNG')\n",
    "    f = open('./data/{}.txt'.format(str_name), 'w+')\n",
    "    for t in txt_files:\n",
    "        f.write(t+'\\n')\n",
    "    f.close()"
   ]
  },
  {
   "cell_type": "code",
   "execution_count": null,
   "metadata": {},
   "outputs": [],
   "source": []
  },
  {
   "cell_type": "code",
   "execution_count": null,
   "metadata": {},
   "outputs": [],
   "source": []
  }
 ],
 "metadata": {
  "kernelspec": {
   "display_name": "Python 3",
   "language": "python",
   "name": "python3"
  },
  "language_info": {
   "codemirror_mode": {
    "name": "ipython",
    "version": 3
   },
   "file_extension": ".py",
   "mimetype": "text/x-python",
   "name": "python",
   "nbconvert_exporter": "python",
   "pygments_lexer": "ipython3",
   "version": "3.7.2"
  }
 },
 "nbformat": 4,
 "nbformat_minor": 2
}
