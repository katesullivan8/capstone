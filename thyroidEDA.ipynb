{
 "cells": [
  {
   "cell_type": "markdown",
   "metadata": {},
   "source": [
    "# This is an initial data exploration\n",
    "\n",
    "- contains no super important information"
   ]
  },
  {
   "cell_type": "code",
   "execution_count": null,
   "metadata": {},
   "outputs": [],
   "source": [
    "import pandas as pd\n",
    "import numpy as np\n",
    "import matplotlib.image as mpimg\n",
    "import matplotlib.pyplot as plt\n",
    "pd.options.display.max_rows = 2000\n",
    "from keras.preprocessing.image import ImageDataGenerator\n",
    "\n",
    "# All images will be rescaled by 1./255\n",
    "train_datagen = ImageDataGenerator(rescale=1./255)\n"
   ]
  },
  {
   "cell_type": "code",
   "execution_count": 2,
   "metadata": {},
   "outputs": [],
   "source": [
    "# %matplotlib inline\n",
    "# img = mpimg.imread('capstone/thyroid/1_1.jpg')\n",
    "# plt.figure(figsize=(10, 10))\n",
    "# imgplot = plt.imshow(img)\n",
    "# imgplot.axes.axis('on')\n",
    "# ax = plt.gca()\n",
    "# ax.grid(color='w')\n",
    "\n",
    "# plt.show()"
   ]
  },
  {
   "cell_type": "code",
   "execution_count": 3,
   "metadata": {},
   "outputs": [],
   "source": [
    "case_df = pd.read_csv('./data/thyroidCSV/cases.csv')\n",
    "coord_df = pd.read_csv('./data/thyroidCSV/coors.csv')\n",
    "img_df = pd.read_csv('./data/thyroidCSV/images.csv')\n",
    "        \n"
   ]
  },
  {
   "cell_type": "code",
   "execution_count": 5,
   "metadata": {},
   "outputs": [
    {
     "data": {
      "text/plain": [
       "array(['5', '4c', '4a', '4b', '3', '2', nan], dtype=object)"
      ]
     },
     "execution_count": 5,
     "metadata": {},
     "output_type": "execute_result"
    }
   ],
   "source": [
    "case_df.head(5)\n",
    "\n",
    "case_df.tirads.unique()\n"
   ]
  },
  {
   "cell_type": "code",
   "execution_count": 5,
   "metadata": {},
   "outputs": [
    {
     "data": {
      "text/html": [
       "<div>\n",
       "<style scoped>\n",
       "    .dataframe tbody tr th:only-of-type {\n",
       "        vertical-align: middle;\n",
       "    }\n",
       "\n",
       "    .dataframe tbody tr th {\n",
       "        vertical-align: top;\n",
       "    }\n",
       "\n",
       "    .dataframe thead th {\n",
       "        text-align: right;\n",
       "    }\n",
       "</style>\n",
       "<table border=\"1\" class=\"dataframe\">\n",
       "  <thead>\n",
       "    <tr style=\"text-align: right;\">\n",
       "      <th></th>\n",
       "      <th>id</th>\n",
       "      <th>image_id</th>\n",
       "      <th>x</th>\n",
       "      <th>y</th>\n",
       "      <th>w</th>\n",
       "      <th>h</th>\n",
       "    </tr>\n",
       "  </thead>\n",
       "  <tbody>\n",
       "    <tr>\n",
       "      <th>0</th>\n",
       "      <td>1</td>\n",
       "      <td>1</td>\n",
       "      <td>385</td>\n",
       "      <td>91</td>\n",
       "      <td>68</td>\n",
       "      <td>98</td>\n",
       "    </tr>\n",
       "    <tr>\n",
       "      <th>1</th>\n",
       "      <td>2</td>\n",
       "      <td>2</td>\n",
       "      <td>271</td>\n",
       "      <td>72</td>\n",
       "      <td>100</td>\n",
       "      <td>143</td>\n",
       "    </tr>\n",
       "    <tr>\n",
       "      <th>2</th>\n",
       "      <td>3</td>\n",
       "      <td>3</td>\n",
       "      <td>292</td>\n",
       "      <td>101</td>\n",
       "      <td>79</td>\n",
       "      <td>56</td>\n",
       "    </tr>\n",
       "    <tr>\n",
       "      <th>3</th>\n",
       "      <td>4</td>\n",
       "      <td>4</td>\n",
       "      <td>258</td>\n",
       "      <td>95</td>\n",
       "      <td>69</td>\n",
       "      <td>53</td>\n",
       "    </tr>\n",
       "    <tr>\n",
       "      <th>4</th>\n",
       "      <td>5</td>\n",
       "      <td>5</td>\n",
       "      <td>235</td>\n",
       "      <td>71</td>\n",
       "      <td>104</td>\n",
       "      <td>138</td>\n",
       "    </tr>\n",
       "  </tbody>\n",
       "</table>\n",
       "</div>"
      ],
      "text/plain": [
       "   id  image_id    x    y    w    h\n",
       "0   1         1  385   91   68   98\n",
       "1   2         2  271   72  100  143\n",
       "2   3         3  292  101   79   56\n",
       "3   4         4  258   95   69   53\n",
       "4   5         5  235   71  104  138"
      ]
     },
     "execution_count": 5,
     "metadata": {},
     "output_type": "execute_result"
    }
   ],
   "source": [
    "coord_df.head(5)"
   ]
  },
  {
   "cell_type": "code",
   "execution_count": 6,
   "metadata": {},
   "outputs": [
    {
     "data": {
      "text/plain": [
       "618"
      ]
     },
     "execution_count": 6,
     "metadata": {},
     "output_type": "execute_result"
    }
   ],
   "source": [
    "len(img_df)"
   ]
  },
  {
   "cell_type": "code",
   "execution_count": 13,
   "metadata": {},
   "outputs": [
    {
     "data": {
      "text/html": [
       "<div>\n",
       "<style scoped>\n",
       "    .dataframe tbody tr th:only-of-type {\n",
       "        vertical-align: middle;\n",
       "    }\n",
       "\n",
       "    .dataframe tbody tr th {\n",
       "        vertical-align: top;\n",
       "    }\n",
       "\n",
       "    .dataframe thead th {\n",
       "        text-align: right;\n",
       "    }\n",
       "</style>\n",
       "<table border=\"1\" class=\"dataframe\">\n",
       "  <thead>\n",
       "    <tr style=\"text-align: right;\">\n",
       "      <th></th>\n",
       "      <th>id</th>\n",
       "      <th>num</th>\n",
       "      <th>cancer</th>\n",
       "      <th>age</th>\n",
       "      <th>sex</th>\n",
       "      <th>composition</th>\n",
       "      <th>echogenicity</th>\n",
       "      <th>margins</th>\n",
       "      <th>calcification</th>\n",
       "      <th>reportbacaf</th>\n",
       "      <th>reporteco</th>\n",
       "    </tr>\n",
       "    <tr>\n",
       "      <th>tirads</th>\n",
       "      <th></th>\n",
       "      <th></th>\n",
       "      <th></th>\n",
       "      <th></th>\n",
       "      <th></th>\n",
       "      <th></th>\n",
       "      <th></th>\n",
       "      <th></th>\n",
       "      <th></th>\n",
       "      <th></th>\n",
       "      <th></th>\n",
       "    </tr>\n",
       "  </thead>\n",
       "  <tbody>\n",
       "    <tr>\n",
       "      <th>2</th>\n",
       "      <td>60</td>\n",
       "      <td>60</td>\n",
       "      <td>0</td>\n",
       "      <td>60</td>\n",
       "      <td>60</td>\n",
       "      <td>37</td>\n",
       "      <td>38</td>\n",
       "      <td>58</td>\n",
       "      <td>0</td>\n",
       "      <td>0</td>\n",
       "      <td>9</td>\n",
       "    </tr>\n",
       "    <tr>\n",
       "      <th>3</th>\n",
       "      <td>25</td>\n",
       "      <td>25</td>\n",
       "      <td>0</td>\n",
       "      <td>25</td>\n",
       "      <td>25</td>\n",
       "      <td>14</td>\n",
       "      <td>14</td>\n",
       "      <td>25</td>\n",
       "      <td>0</td>\n",
       "      <td>0</td>\n",
       "      <td>5</td>\n",
       "    </tr>\n",
       "    <tr>\n",
       "      <th>4a</th>\n",
       "      <td>105</td>\n",
       "      <td>105</td>\n",
       "      <td>0</td>\n",
       "      <td>105</td>\n",
       "      <td>104</td>\n",
       "      <td>85</td>\n",
       "      <td>85</td>\n",
       "      <td>105</td>\n",
       "      <td>0</td>\n",
       "      <td>0</td>\n",
       "      <td>7</td>\n",
       "    </tr>\n",
       "    <tr>\n",
       "      <th>4b</th>\n",
       "      <td>90</td>\n",
       "      <td>90</td>\n",
       "      <td>0</td>\n",
       "      <td>90</td>\n",
       "      <td>90</td>\n",
       "      <td>74</td>\n",
       "      <td>74</td>\n",
       "      <td>89</td>\n",
       "      <td>0</td>\n",
       "      <td>0</td>\n",
       "      <td>3</td>\n",
       "    </tr>\n",
       "    <tr>\n",
       "      <th>4c</th>\n",
       "      <td>75</td>\n",
       "      <td>75</td>\n",
       "      <td>0</td>\n",
       "      <td>75</td>\n",
       "      <td>75</td>\n",
       "      <td>56</td>\n",
       "      <td>56</td>\n",
       "      <td>75</td>\n",
       "      <td>0</td>\n",
       "      <td>0</td>\n",
       "      <td>0</td>\n",
       "    </tr>\n",
       "    <tr>\n",
       "      <th>5</th>\n",
       "      <td>41</td>\n",
       "      <td>41</td>\n",
       "      <td>0</td>\n",
       "      <td>41</td>\n",
       "      <td>41</td>\n",
       "      <td>30</td>\n",
       "      <td>30</td>\n",
       "      <td>41</td>\n",
       "      <td>0</td>\n",
       "      <td>0</td>\n",
       "      <td>4</td>\n",
       "    </tr>\n",
       "  </tbody>\n",
       "</table>\n",
       "</div>"
      ],
      "text/plain": [
       "         id  num  cancer  age  sex  composition  echogenicity  margins  \\\n",
       "tirads                                                                   \n",
       "2        60   60       0   60   60           37            38       58   \n",
       "3        25   25       0   25   25           14            14       25   \n",
       "4a      105  105       0  105  104           85            85      105   \n",
       "4b       90   90       0   90   90           74            74       89   \n",
       "4c       75   75       0   75   75           56            56       75   \n",
       "5        41   41       0   41   41           30            30       41   \n",
       "\n",
       "        calcification  reportbacaf  reporteco  \n",
       "tirads                                         \n",
       "2                   0            0          9  \n",
       "3                   0            0          5  \n",
       "4a                  0            0          7  \n",
       "4b                  0            0          3  \n",
       "4c                  0            0          0  \n",
       "5                   0            0          4  "
      ]
     },
     "execution_count": 13,
     "metadata": {},
     "output_type": "execute_result"
    }
   ],
   "source": [
    "case_df.groupby('tirads').count()\n"
   ]
  },
  {
   "cell_type": "code",
   "execution_count": 7,
   "metadata": {},
   "outputs": [
    {
     "name": "stdout",
     "output_type": "stream",
     "text": [
      "Dataframe Name is: case_df\n",
      "               id         num  cancer         age  calcification  reportbacaf\n",
      "count  488.000000  488.000000     0.0  402.000000            0.0          0.0\n",
      "mean   244.500000  278.297131     NaN   54.164179            NaN          NaN\n",
      "std    141.017729  190.434756     NaN   15.873657            NaN          NaN\n",
      "min      1.000000    1.000000     NaN   14.000000            NaN          NaN\n",
      "25%    122.750000  123.750000     NaN   43.250000            NaN          NaN\n",
      "50%    244.500000  247.500000     NaN   55.000000            NaN          NaN\n",
      "75%    366.250000  374.250000     NaN   65.000000            NaN          NaN\n",
      "max    488.000000  648.000000     NaN   91.000000            NaN          NaN\n",
      "**************************************************\n",
      "Dataframe Name is: coord_df\n",
      "               id    image_id           x           y           w           h\n",
      "count  779.000000  779.000000  779.000000  779.000000  779.000000  779.000000\n",
      "mean   390.000000  313.034660  221.553273   78.652118  140.228498  108.061617\n",
      "std    225.022221  171.633607   91.724737   33.921365   63.895473   45.561804\n",
      "min      1.000000    1.000000   34.000000   18.000000   30.000000   27.000000\n",
      "25%    195.500000  174.000000  147.000000   52.000000   88.000000   73.000000\n",
      "50%    390.000000  308.000000  220.000000   75.000000  128.000000   99.000000\n",
      "75%    584.500000  454.500000  277.000000  100.000000  183.000000  139.000000\n",
      "max    779.000000  619.000000  479.000000  323.000000  344.000000  261.000000\n",
      "**************************************************\n",
      "Dataframe Name is: img_df\n",
      "               id     case_id\n",
      "count  618.000000  618.000000\n",
      "mean   310.150485  239.360841\n",
      "std    178.939823  148.639789\n",
      "min      1.000000    1.000000\n",
      "25%    155.250000  111.250000\n",
      "50%    310.500000  239.000000\n",
      "75%    464.750000  369.750000\n",
      "max    619.000000  488.000000\n",
      "**************************************************\n"
     ]
    }
   ],
   "source": [
    "dfs = [case_df, coord_df, img_df]\n",
    "\n",
    "# define summary function\n",
    "def summary(data):\n",
    "    name =[x for x in globals() if globals()[x] is data][0]\n",
    "    print(\"Dataframe Name is: %s\" % name)\n",
    "    print(data.describe())\n",
    "    \n",
    "# Loop through dfs to print summary values\n",
    "for df in dfs:\n",
    "    summary(df)\n",
    "    print ('*'*50)\n",
    "\n"
   ]
  },
  {
   "cell_type": "code",
   "execution_count": 8,
   "metadata": {},
   "outputs": [
    {
     "name": "stdout",
     "output_type": "stream",
     "text": [
      "id                 0\n",
      "num                0\n",
      "cancer           488\n",
      "age               86\n",
      "sex               85\n",
      "composition      191\n",
      "echogenicity     190\n",
      "margins           94\n",
      "calcification    488\n",
      "tirads            92\n",
      "reportbacaf      488\n",
      "reporteco        460\n",
      "dtype: int64\n",
      "**************************************************\n",
      "id          0\n",
      "image_id    0\n",
      "x           0\n",
      "y           0\n",
      "w           0\n",
      "h           0\n",
      "dtype: int64\n",
      "**************************************************\n",
      "id          0\n",
      "case_id     0\n",
      "filename    0\n",
      "mark        8\n",
      "dtype: int64\n",
      "**************************************************\n"
     ]
    }
   ],
   "source": [
    "# Missingness\n",
    "\n",
    "for df in dfs:\n",
    "    name =[x for x in globals() if globals()[x] is df][0]\n",
    "    print (df.isnull().sum())\n",
    "    print ('*' * 50)"
   ]
  },
  {
   "cell_type": "code",
   "execution_count": null,
   "metadata": {},
   "outputs": [],
   "source": []
  }
 ],
 "metadata": {
  "kernelspec": {
   "display_name": "Python 3",
   "language": "python",
   "name": "python3"
  },
  "language_info": {
   "codemirror_mode": {
    "name": "ipython",
    "version": 3
   },
   "file_extension": ".py",
   "mimetype": "text/x-python",
   "name": "python",
   "nbconvert_exporter": "python",
   "pygments_lexer": "ipython3",
   "version": "3.7.2"
  }
 },
 "nbformat": 4,
 "nbformat_minor": 2
}
